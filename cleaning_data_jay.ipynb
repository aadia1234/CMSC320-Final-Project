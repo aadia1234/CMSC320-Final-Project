{
 "cells": [
  {
   "cell_type": "code",
   "execution_count": 2,
   "metadata": {},
   "outputs": [],
   "source": [
    "import pandas as pd"
   ]
  },
  {
   "cell_type": "markdown",
   "metadata": {},
   "source": [
    "***Used metro code is zip code was not available. will update later if needed.***"
   ]
  },
  {
   "cell_type": "code",
   "execution_count": null,
   "metadata": {},
   "outputs": [],
   "source": [
    "df_2020 = pd.read_excel('data/fy2020_safmrs_rev.xlsx')\n",
    "df_2020"
   ]
  },
  {
   "cell_type": "code",
   "execution_count": null,
   "metadata": {},
   "outputs": [],
   "source": [
    "df_2020 = df_2020[df_2020['Areaname20'] == 'Washington-Arlington-Alexandria, DC-VA-MD HUD Metro FMR Area']\n",
    "df_2020 = df_2020.rename(columns={\n",
    "        'CBSASub20' : 'metro_code',\n",
    "        'safmr_0br': '0_bedroom',\n",
    "        'safmr_1br': '1_bedroom',\n",
    "        'safmr_2br': '2_bedroom',\n",
    "        'safmr_3br': '3_bedroom',\n",
    "        'safmr_4br': '4_bedroom'\n",
    "    })\n",
    "df_2020 = df_2020.drop(['zcta', 'Areaname20', 'safmr_0br_90pct_pay_std', 'safmr_0br_110pct_pay_std','safmr_1br_90pct_pay_std',  'safmr_1br_110pct_pay_std', 'safmr_2br_90pct_pay_std',  'safmr_2br_110pct_pay_std', 'safmr_3br_90pct_pay_std', 'safmr_3br_110pct_pay_std', 'safmr_4br_90pct_pay_std', 'safmr_4br_110pct_pay_std'], axis=1)\n",
    "df_2020 = df_2020.reset_index(drop = True)\n",
    "df_2020\n"
   ]
  },
  {
   "cell_type": "code",
   "execution_count": null,
   "metadata": {},
   "outputs": [],
   "source": [
    "df_2018 = pd.read_excel('data/FY18_4050_FMRs_rev.xlsx')\n",
    "df_2018"
   ]
  },
  {
   "cell_type": "code",
   "execution_count": null,
   "metadata": {},
   "outputs": [],
   "source": [
    "df_2018 = df_2018[df_2018['areaname'] == 'Washington-Arlington-Alexandria, DC-VA-MD HUD Metro FMR Area']\n",
    "df_2018 = df_2018.rename(columns={\n",
    "        'fmr_0': '0_bedroom',\n",
    "        'fmr_1': '1_bedroom',\n",
    "        'fmr_2': '2_bedroom',\n",
    "        'fmr_3': '3_bedroom',\n",
    "        'fmr_4': '4_bedroom'\n",
    "    })\n",
    "df_2018 = df_2018.drop(columns=[col for col in df_2018.columns if col not in [ 'metro_code', '0_bedroom', '1_bedroom', '2_bedroom', '3_bedroom', '4_bedroom']])\n",
    "df_2018 = df_2018.reset_index(drop = True)\n",
    "df_2018\n"
   ]
  },
  {
   "cell_type": "code",
   "execution_count": null,
   "metadata": {},
   "outputs": [],
   "source": [
    "df_2017 = pd.read_excel('data/FY2017-4050-County-Level_Data.xlsx')\n",
    "df_2017"
   ]
  },
  {
   "cell_type": "code",
   "execution_count": null,
   "metadata": {},
   "outputs": [],
   "source": [
    "df_2017 = df_2017[df_2017['areaname'] == 'Washington-Arlington-Alexandria, DC-VA-MD HUD Metro FMR Area']\n",
    "df_2017 = df_2017.rename(columns={\n",
    "        'fmr0': '0_bedroom',\n",
    "        'fmr1': '1_bedroom',\n",
    "        'fmr2': '2_bedroom',\n",
    "        'fmr3': '3_bedroom',\n",
    "        'fmr4': '4_bedroom'\n",
    "    })\n",
    "df_2017 = df_2017.drop(columns=[col for col in df_2017.columns if col not in [ 'Metro_code', '0_bedroom', '1_bedroom', '2_bedroom', '3_bedroom', '4_bedroom']])\n",
    "df_2017 = df_2017.reset_index(drop=True)\n",
    "df_2017"
   ]
  },
  {
   "cell_type": "markdown",
   "metadata": {},
   "source": [
    "***2016 and 2015 do not have the DMV area in the data. will figure out solution later***"
   ]
  },
  {
   "cell_type": "code",
   "execution_count": null,
   "metadata": {},
   "outputs": [],
   "source": [
    "df_2016 = pd.read_excel('data/final_fy2016_safmrs.xlsx')\n",
    "df_2016"
   ]
  },
  {
   "cell_type": "code",
   "execution_count": null,
   "metadata": {},
   "outputs": [],
   "source": [
    "df_2015 = pd.read_excel('data/final_fy2015_safmrs.xls')\n",
    "df_2015"
   ]
  },
  {
   "cell_type": "code",
   "execution_count": null,
   "metadata": {},
   "outputs": [],
   "source": [
    "df_2015['cbsnmcnm'].value_counts()"
   ]
  },
  {
   "cell_type": "code",
   "execution_count": null,
   "metadata": {},
   "outputs": [],
   "source": [
    "df_2016['metro_name'].value_counts()"
   ]
  }
 ],
 "metadata": {
  "kernelspec": {
   "display_name": "Python 3",
   "language": "python",
   "name": "python3"
  },
  "language_info": {
   "codemirror_mode": {
    "name": "ipython",
    "version": 3
   },
   "file_extension": ".py",
   "mimetype": "text/x-python",
   "name": "python",
   "nbconvert_exporter": "python",
   "pygments_lexer": "ipython3",
   "version": "3.13.1"
  }
 },
 "nbformat": 4,
 "nbformat_minor": 2
}
